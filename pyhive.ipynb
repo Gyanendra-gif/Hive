{
 "cells": [
  {
   "cell_type": "code",
   "execution_count": null,
   "metadata": {},
   "outputs": [],
   "source": [
    "from pyhive import hive\n",
    "import pandas as pd\n",
    "import matplotlib.pyplot as plt"
   ]
  },
  {
   "cell_type": "code",
   "execution_count": null,
   "metadata": {},
   "outputs": [],
   "source": [
    "try:\n",
    "    con = hive.Connection(host=\"localhost\", port=10000)\n",
    "\n",
    "    cur = con.cursor()\n",
    "    cur.execute(\"create Database {}\".format(\"CpuLogData\"))\n",
    "    print(\"Database Created Successfully\")\n",
    "\n",
    "except Exception as e:\n",
    "    print(e)"
   ]
  },
  {
   "cell_type": "markdown",
   "metadata": {},
   "source": [
    "Table Creation"
   ]
  },
  {
   "cell_type": "code",
   "execution_count": null,
   "metadata": {},
   "outputs": [],
   "source": [
    "try:\n",
    "    con = hive.Connection(host=\"localhost\", port=10000, database=\"CpuLogData\")\n",
    "\n",
    "    cur = con.cursor()\n",
    "    cur.execute(\"create table data(Date_Time  DATE ,Cpu_Count int,Cpu_Working_Time string,Cpu_idle_Time string,cpu_percent string,Usage_cpu_count string,number_of_software_interrupts_since_boot string,number_of_system_calls_since_boot string,number_of_interrupts_since_boot string,cpu_avg_load_over_1_min string,cpu_avg_load_over_5_min string,cpu_avg_load_over_15_min string,system_total_memory string,system_used_memory string,system_free_memory string,system_active_memory string,system_inactive_memory string,system_buffers_memory string,system_cached_memory string,system_shared_memory string,system_avalible_memory string,disk_total_memory string,disk_used_memory string,disk_free_memory string,disk_read_count string,disk_write_count string,disk_read_bytes string,disk_write_bytes string,time_spent_reading_from_disk string,time_spent_writing_to_disk string,time_spent_doing_actual_Input_Output string,number_of_bytes_sent string,number_of_bytes_received string,number_of_packets_sent string,number_of_packets_recived string,Total_number_of_errors_while_receiving string,total_number_of_errors_while_sending string,total_number_of_incoming_packets_which_were_dropped string,total_number_of_outgoing_packets_which_were_dropped string,boot_time string,user_name string,keyboard int,mouse int,technology string,files_changed int) row format delimited fields terminated by ',' stored as textfile location 'hdfs://localhost:9000/NewOne' tblproperties('skip.header.line.count'='1')\")\n",
    "    print(\"Table Created Successfully\")\n",
    "\n",
    "except Exception as e:\n",
    "    print(e)"
   ]
  },
  {
   "cell_type": "markdown",
   "metadata": {},
   "source": [
    "To get the User Count who are Working"
   ]
  },
  {
   "cell_type": "code",
   "execution_count": null,
   "metadata": {},
   "outputs": [],
   "source": [
    "try:\n",
    "    con = hive.Connection(host=\"localhost\", port=10000, database=\"CpuLogData\")\n",
    "    user_working_count = pd.read_sql(\"select user_name ,count('') as total from data where keyboard !=0 or mouse !=0 group by user_name\", con)\n",
    "    print(user_working_count)\n",
    "\n",
    "except Exception as e:\n",
    "    print(e)"
   ]
  },
  {
   "cell_type": "markdown",
   "metadata": {},
   "source": [
    "Plotting Bar Graph for above data"
   ]
  },
  {
   "cell_type": "code",
   "execution_count": null,
   "metadata": {},
   "outputs": [],
   "source": [
    "try:\n",
    "    user_working_count.plot.bar(x='user_name', y='total' ,color='r')\n",
    "    plt.ylim(0,600)\n",
    "    plt.xlabel(\"UserName\")\n",
    "    plt.ylable(\"Working Count\")\n",
    "    plt.show()\n",
    "except Exception as e:\n",
    "    print(e)    \n"
   ]
  },
  {
   "cell_type": "markdown",
   "metadata": {},
   "source": [
    "Getting Average Working Seconds of Each User"
   ]
  },
  {
   "cell_type": "code",
   "execution_count": null,
   "metadata": {},
   "outputs": [],
   "source": [
    "avg_work_sec=pd.read_sql(\"select user_name,((((count(''))*5)*60)/6) as average_working_sec from data where keyboard!=0 or mouse!=0 group by user_name\", con)\n",
    "print(avg_work_sec)"
   ]
  },
  {
   "cell_type": "markdown",
   "metadata": {},
   "source": [
    "Converting Average Work Seconds to Average Hour and getting Highest, Lowest Average Working Hour."
   ]
  },
  {
   "cell_type": "code",
   "execution_count": null,
   "metadata": {},
   "outputs": [],
   "source": [
    "average_work_hour = avg_work_sec[[\"user_name\",\"average_working_sec\"]]\n",
    "average_work_hour[\"average_working_sec\"]= pd.to_datetime(average_work_hour['average_working_sec'] ,unit='s').dt.strftime(\"%H:%M\")\n",
    "average_work_hour.rename(columns={'average_working_sec':'average_working_hour'}, inplace=True)\n",
    "print(average_work_hour,\"\\n\")\n",
    "\n",
    "print(\"Highest Average Working Hour\")\n",
    "highest_average_work_hour=average_work_hour.max()\n",
    "print(highest_average_work_hour, \"\\n\")\n",
    "\n",
    "print(\"Lowest Average Working Hour\")\n",
    "lowest_average_work_hour=average_work_hour.min()\n",
    "print(lowest_average_work_hour)\n"
   ]
  },
  {
   "cell_type": "markdown",
   "metadata": {},
   "source": [
    "BarPlot for above data."
   ]
  },
  {
   "cell_type": "markdown",
   "metadata": {},
   "source": [
    "Getting Counts For User Sitting Idle"
   ]
  },
  {
   "cell_type": "code",
   "execution_count": null,
   "metadata": {},
   "outputs": [],
   "source": [
    "try:\n",
    "    con = hive.Connection(host=\"localhost\", port=10000, database=\"cpulog\")\n",
    "    user_idle_count = pd.read_sql(\"select user_name ,count('') as total from data where keyboard =0 or mouse !=0 group by user_name\", con)\n",
    "    print(user_idle_count)\n",
    "\n",
    "except Exception as e:\n",
    "    print(e)"
   ]
  },
  {
   "cell_type": "markdown",
   "metadata": {},
   "source": [
    "Getting Average Idle Seconds of All Users."
   ]
  },
  {
   "cell_type": "code",
   "execution_count": null,
   "metadata": {},
   "outputs": [],
   "source": [
    "avg_idle_sec=pd.read_sql(\"select user_name,((((count(''))*5)*60)/6) as average_idle_sec from data where keyboard=0 or mouse=0 group by user_name\", con)\n",
    "print(avg_idle_sec)"
   ]
  },
  {
   "cell_type": "markdown",
   "metadata": {},
   "source": [
    "Converting Average Idle Seconds to Average idle Hours and finding the Highest, Lowest Idle Hrs."
   ]
  },
  {
   "cell_type": "code",
   "execution_count": null,
   "metadata": {},
   "outputs": [],
   "source": [
    "average_idle_hour = avg_idle_sec[[\"user_name\",\"average_idle_sec\"]]\n",
    "average_idle_hour[\"average_idle_sec\"]= pd.to_datetime(average_idle_hour['average_idle_sec'] ,unit='s').dt.strftime(\"%H:%M\")\n",
    "average_idle_hour.rename(columns={'average_idle_sec':'average_idle_hour'}, inplace=True)\n",
    "print(average_idle_hour,\"\\n\")\n",
    "\n",
    "print(\"Highest Average Idle Hour\")\n",
    "highest_average_idle_hour=average_idle_hour.max()\n",
    "print(highest_average_idle_hour, \"\\n\")\n",
    "\n",
    "print(\"Lowest Average Working Hour\")\n",
    "lowest_average_idle_hour=average_idle_hour.min()\n",
    "print(lowest_average_idle_hour)"
   ]
  },
  {
   "cell_type": "markdown",
   "metadata": {},
   "source": [
    "Bar Plot for Above Data"
   ]
  },
  {
   "cell_type": "code",
   "execution_count": null,
   "metadata": {},
   "outputs": [],
   "source": [
    "total = user_working_count['total']\n",
    "plt.figure(figsize = (10,10))\n",
    "sns.barplot(x= 'average_idle_hour',y=total,data = average_idle_hour,hue='user_name')\n",
    "plt.title(\"Avg Idle hours by user\")\n",
    "plt.show()"
   ]
  }
 ],
 "metadata": {
  "interpreter": {
   "hash": "916dbcbb3f70747c44a77c7bcd40155683ae19c65e1c03b4aa3499c5328201f1"
  },
  "kernelspec": {
   "display_name": "Python 3.8.10 64-bit",
   "language": "python",
   "name": "python3"
  },
  "language_info": {
   "codemirror_mode": {
    "name": "ipython",
    "version": 3
   },
   "file_extension": ".py",
   "mimetype": "text/x-python",
   "name": "python",
   "nbconvert_exporter": "python",
   "pygments_lexer": "ipython3",
   "version": "3.8.10"
  },
  "orig_nbformat": 4
 },
 "nbformat": 4,
 "nbformat_minor": 2
}
